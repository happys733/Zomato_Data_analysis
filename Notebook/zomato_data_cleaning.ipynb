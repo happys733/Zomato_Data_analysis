{
  "cells": [
    {
      "cell_type": "markdown",
      "metadata": {},
      "source": [
        "# Zomato Data Cleaning and Preprocessing\nThis notebook demonstrates how to clean and preprocess the Zomato dataset using pandas and numpy."
      ]
    },
    {
      "cell_type": "code",
      "execution_count": null,
      "metadata": {},
      "outputs": [],
      "source": [
        "# Import necessary libraries\n",
        "import pandas as pd\n",
        "import numpy as np"
      ]
    },
    {
      "cell_type": "code",
      "execution_count": null,
      "metadata": {},
      "outputs": [],
      "source": [
        "# Step 1: Load the dataset from a CSV file\n",
        "df = pd.read_csv('zomato.csv')"
      ]
    },
    {
      "cell_type": "code",
      "execution_count": null,
      "metadata": {},
      "outputs": [],
      "source": [
        "# Step 2: Drop unnecessary columns to clean the dataset\n",
        "columns_to_drop = [\n",
        "    'url', 'phone', 'rest_type', 'dish_liked',\n",
        "    'reviews_list', 'menu_item', 'listed_in(city)'\n",
        "]\n",
        "df = df.drop(columns=columns_to_drop)"
      ]
    },
    {
      "cell_type": "code",
      "execution_count": null,
      "metadata": {},
      "outputs": [],
      "source": [
        "# Step 3: Rename some columns for better readability\n",
        "df = df.rename(columns={\n",
        "    'approx_cost(for two people)': 'two_people_cost',\n",
        "    'listed_in(type)': 'type_of_restaurant',\n",
        "    'rate': 'rating'\n",
        "})"
      ]
    },
    {
      "cell_type": "code",
      "execution_count": null,
      "metadata": {},
      "outputs": [],
      "source": [
        "# Step 4: Drop rows where 'location' is missing\n",
        "df = df.dropna(subset=['location'])"
      ]
    },
    {
      "cell_type": "code",
      "execution_count": null,
      "metadata": {},
      "outputs": [],
      "source": [
        "# Step 5: Drop rows where 'cuisines' or 'two_people_cost' is missing\n",
        "df = df.dropna(subset=['cuisines', 'two_people_cost'])"
      ]
    },
    {
      "cell_type": "code",
      "execution_count": null,
      "metadata": {},
      "outputs": [],
      "source": [
        "# Step 6: Convert 'two_people_cost' to numeric and get per person cost\n",
        "df['two_people_cost'] = df['two_people_cost'].str.replace(',', '')\n",
        "df['two_people_cost'] = df['two_people_cost'].astype(int) / 2\n",
        "df = df.rename(columns={'two_people_cost': 'cost_per_person'})"
      ]
    },
    {
      "cell_type": "code",
      "execution_count": null,
      "metadata": {},
      "outputs": [],
      "source": [
        "# Step 7: Define a function to clean and convert the 'rating' column\n",
        "def handle_rating(value):\n",
        "    if value in ['NEW', '-']:\n",
        "        return np.nan\n",
        "    else:\n",
        "        return float(str(value).split('/')[0])"
      ]
    },
    {
      "cell_type": "code",
      "execution_count": null,
      "metadata": {},
      "outputs": [],
      "source": [
        "# Step 8: Apply the function and fill missing ratings with the mean\n",
        "df['rating'] = df['rating'].apply(handle_rating)\n",
        "df['rating'] = df['rating'].fillna(df['rating'].mean())"
      ]
    },
    {
      "cell_type": "code",
      "execution_count": null,
      "metadata": {},
      "outputs": [],
      "source": [
        "# Step 9: Save the cleaned dataset to a new CSV file\n",
        "df.to_csv('zomato_data_analysis.csv', index=False)"
      ]
    }
  ],
  "metadata": {
    "kernelspec": {
      "display_name": "Python 3",
      "language": "python",
      "name": "python3"
    },
    "language_info": {
      "name": "python",
      "version": "3.8"
    }
  },
  "nbformat": 4,
  "nbformat_minor": 5
}